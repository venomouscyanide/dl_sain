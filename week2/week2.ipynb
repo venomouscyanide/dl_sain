{
  "nbformat": 4,
  "nbformat_minor": 0,
  "metadata": {
    "colab": {
      "name": "week2.ipynb",
      "provenance": [],
      "collapsed_sections": [],
      "toc_visible": true,
      "authorship_tag": "ABX9TyOuz7zUMn2E6jC5/GqJIelQ",
      "include_colab_link": true
    },
    "kernelspec": {
      "name": "python3",
      "display_name": "Python 3"
    },
    "language_info": {
      "name": "python"
    },
    "accelerator": "GPU",
    "widgets": {
      "application/vnd.jupyter.widget-state+json": {
        "5ad036cf8e29413993a819a69663a239": {
          "model_module": "@jupyter-widgets/controls",
          "model_name": "HBoxModel",
          "state": {
            "_view_name": "HBoxView",
            "_dom_classes": [],
            "_model_name": "HBoxModel",
            "_view_module": "@jupyter-widgets/controls",
            "_model_module_version": "1.5.0",
            "_view_count": null,
            "_view_module_version": "1.5.0",
            "box_style": "",
            "layout": "IPY_MODEL_9c2db9ac13964b79b60ce09761769f4e",
            "_model_module": "@jupyter-widgets/controls",
            "children": [
              "IPY_MODEL_39f1cbe624cf4bba995da0a256d12ae1",
              "IPY_MODEL_489f3371d66343febdc5c549ae6bbf5c"
            ]
          }
        },
        "9c2db9ac13964b79b60ce09761769f4e": {
          "model_module": "@jupyter-widgets/base",
          "model_name": "LayoutModel",
          "state": {
            "_view_name": "LayoutView",
            "grid_template_rows": null,
            "right": null,
            "justify_content": null,
            "_view_module": "@jupyter-widgets/base",
            "overflow": null,
            "_model_module_version": "1.2.0",
            "_view_count": null,
            "flex_flow": null,
            "width": null,
            "min_width": null,
            "border": null,
            "align_items": null,
            "bottom": null,
            "_model_module": "@jupyter-widgets/base",
            "top": null,
            "grid_column": null,
            "overflow_y": null,
            "overflow_x": null,
            "grid_auto_flow": null,
            "grid_area": null,
            "grid_template_columns": null,
            "flex": null,
            "_model_name": "LayoutModel",
            "justify_items": null,
            "grid_row": null,
            "max_height": null,
            "align_content": null,
            "visibility": null,
            "align_self": null,
            "height": null,
            "min_height": null,
            "padding": null,
            "grid_auto_rows": null,
            "grid_gap": null,
            "max_width": null,
            "order": null,
            "_view_module_version": "1.2.0",
            "grid_template_areas": null,
            "object_position": null,
            "object_fit": null,
            "grid_auto_columns": null,
            "margin": null,
            "display": null,
            "left": null
          }
        },
        "39f1cbe624cf4bba995da0a256d12ae1": {
          "model_module": "@jupyter-widgets/controls",
          "model_name": "FloatProgressModel",
          "state": {
            "_view_name": "ProgressView",
            "style": "IPY_MODEL_7849501ddd4b4cb68b6dbd0c2bc46371",
            "_dom_classes": [],
            "description": "",
            "_model_name": "FloatProgressModel",
            "bar_style": "success",
            "max": 9912422,
            "_view_module": "@jupyter-widgets/controls",
            "_model_module_version": "1.5.0",
            "value": 9912422,
            "_view_count": null,
            "_view_module_version": "1.5.0",
            "orientation": "horizontal",
            "min": 0,
            "description_tooltip": null,
            "_model_module": "@jupyter-widgets/controls",
            "layout": "IPY_MODEL_9b6b2297bbef4d9e993a870104cc2383"
          }
        },
        "489f3371d66343febdc5c549ae6bbf5c": {
          "model_module": "@jupyter-widgets/controls",
          "model_name": "HTMLModel",
          "state": {
            "_view_name": "HTMLView",
            "style": "IPY_MODEL_5d5bc2aa92dd4af08e422c0bc14cb1d3",
            "_dom_classes": [],
            "description": "",
            "_model_name": "HTMLModel",
            "placeholder": "​",
            "_view_module": "@jupyter-widgets/controls",
            "_model_module_version": "1.5.0",
            "value": " 9913344/? [00:00&lt;00:00, 16420162.33it/s]",
            "_view_count": null,
            "_view_module_version": "1.5.0",
            "description_tooltip": null,
            "_model_module": "@jupyter-widgets/controls",
            "layout": "IPY_MODEL_2ea0ad5d18b748a0ab0da02a34a35176"
          }
        },
        "7849501ddd4b4cb68b6dbd0c2bc46371": {
          "model_module": "@jupyter-widgets/controls",
          "model_name": "ProgressStyleModel",
          "state": {
            "_view_name": "StyleView",
            "_model_name": "ProgressStyleModel",
            "description_width": "initial",
            "_view_module": "@jupyter-widgets/base",
            "_model_module_version": "1.5.0",
            "_view_count": null,
            "_view_module_version": "1.2.0",
            "bar_color": null,
            "_model_module": "@jupyter-widgets/controls"
          }
        },
        "9b6b2297bbef4d9e993a870104cc2383": {
          "model_module": "@jupyter-widgets/base",
          "model_name": "LayoutModel",
          "state": {
            "_view_name": "LayoutView",
            "grid_template_rows": null,
            "right": null,
            "justify_content": null,
            "_view_module": "@jupyter-widgets/base",
            "overflow": null,
            "_model_module_version": "1.2.0",
            "_view_count": null,
            "flex_flow": null,
            "width": null,
            "min_width": null,
            "border": null,
            "align_items": null,
            "bottom": null,
            "_model_module": "@jupyter-widgets/base",
            "top": null,
            "grid_column": null,
            "overflow_y": null,
            "overflow_x": null,
            "grid_auto_flow": null,
            "grid_area": null,
            "grid_template_columns": null,
            "flex": null,
            "_model_name": "LayoutModel",
            "justify_items": null,
            "grid_row": null,
            "max_height": null,
            "align_content": null,
            "visibility": null,
            "align_self": null,
            "height": null,
            "min_height": null,
            "padding": null,
            "grid_auto_rows": null,
            "grid_gap": null,
            "max_width": null,
            "order": null,
            "_view_module_version": "1.2.0",
            "grid_template_areas": null,
            "object_position": null,
            "object_fit": null,
            "grid_auto_columns": null,
            "margin": null,
            "display": null,
            "left": null
          }
        },
        "5d5bc2aa92dd4af08e422c0bc14cb1d3": {
          "model_module": "@jupyter-widgets/controls",
          "model_name": "DescriptionStyleModel",
          "state": {
            "_view_name": "StyleView",
            "_model_name": "DescriptionStyleModel",
            "description_width": "",
            "_view_module": "@jupyter-widgets/base",
            "_model_module_version": "1.5.0",
            "_view_count": null,
            "_view_module_version": "1.2.0",
            "_model_module": "@jupyter-widgets/controls"
          }
        },
        "2ea0ad5d18b748a0ab0da02a34a35176": {
          "model_module": "@jupyter-widgets/base",
          "model_name": "LayoutModel",
          "state": {
            "_view_name": "LayoutView",
            "grid_template_rows": null,
            "right": null,
            "justify_content": null,
            "_view_module": "@jupyter-widgets/base",
            "overflow": null,
            "_model_module_version": "1.2.0",
            "_view_count": null,
            "flex_flow": null,
            "width": null,
            "min_width": null,
            "border": null,
            "align_items": null,
            "bottom": null,
            "_model_module": "@jupyter-widgets/base",
            "top": null,
            "grid_column": null,
            "overflow_y": null,
            "overflow_x": null,
            "grid_auto_flow": null,
            "grid_area": null,
            "grid_template_columns": null,
            "flex": null,
            "_model_name": "LayoutModel",
            "justify_items": null,
            "grid_row": null,
            "max_height": null,
            "align_content": null,
            "visibility": null,
            "align_self": null,
            "height": null,
            "min_height": null,
            "padding": null,
            "grid_auto_rows": null,
            "grid_gap": null,
            "max_width": null,
            "order": null,
            "_view_module_version": "1.2.0",
            "grid_template_areas": null,
            "object_position": null,
            "object_fit": null,
            "grid_auto_columns": null,
            "margin": null,
            "display": null,
            "left": null
          }
        },
        "a5bb988ed23f4cd8b630bb78fbb8f79a": {
          "model_module": "@jupyter-widgets/controls",
          "model_name": "HBoxModel",
          "state": {
            "_view_name": "HBoxView",
            "_dom_classes": [],
            "_model_name": "HBoxModel",
            "_view_module": "@jupyter-widgets/controls",
            "_model_module_version": "1.5.0",
            "_view_count": null,
            "_view_module_version": "1.5.0",
            "box_style": "",
            "layout": "IPY_MODEL_125aadf27a5049cc93871f6268794dbe",
            "_model_module": "@jupyter-widgets/controls",
            "children": [
              "IPY_MODEL_0903ac1d7927495aa3a29d16d20fb8ff",
              "IPY_MODEL_d14164c55b8f41d0aa6e7404539e7dfa"
            ]
          }
        },
        "125aadf27a5049cc93871f6268794dbe": {
          "model_module": "@jupyter-widgets/base",
          "model_name": "LayoutModel",
          "state": {
            "_view_name": "LayoutView",
            "grid_template_rows": null,
            "right": null,
            "justify_content": null,
            "_view_module": "@jupyter-widgets/base",
            "overflow": null,
            "_model_module_version": "1.2.0",
            "_view_count": null,
            "flex_flow": null,
            "width": null,
            "min_width": null,
            "border": null,
            "align_items": null,
            "bottom": null,
            "_model_module": "@jupyter-widgets/base",
            "top": null,
            "grid_column": null,
            "overflow_y": null,
            "overflow_x": null,
            "grid_auto_flow": null,
            "grid_area": null,
            "grid_template_columns": null,
            "flex": null,
            "_model_name": "LayoutModel",
            "justify_items": null,
            "grid_row": null,
            "max_height": null,
            "align_content": null,
            "visibility": null,
            "align_self": null,
            "height": null,
            "min_height": null,
            "padding": null,
            "grid_auto_rows": null,
            "grid_gap": null,
            "max_width": null,
            "order": null,
            "_view_module_version": "1.2.0",
            "grid_template_areas": null,
            "object_position": null,
            "object_fit": null,
            "grid_auto_columns": null,
            "margin": null,
            "display": null,
            "left": null
          }
        },
        "0903ac1d7927495aa3a29d16d20fb8ff": {
          "model_module": "@jupyter-widgets/controls",
          "model_name": "FloatProgressModel",
          "state": {
            "_view_name": "ProgressView",
            "style": "IPY_MODEL_e4ea3f1de719412790c8986ce09df2ca",
            "_dom_classes": [],
            "description": "",
            "_model_name": "FloatProgressModel",
            "bar_style": "success",
            "max": 28881,
            "_view_module": "@jupyter-widgets/controls",
            "_model_module_version": "1.5.0",
            "value": 28881,
            "_view_count": null,
            "_view_module_version": "1.5.0",
            "orientation": "horizontal",
            "min": 0,
            "description_tooltip": null,
            "_model_module": "@jupyter-widgets/controls",
            "layout": "IPY_MODEL_259f5b9a014e430596f4a66b1a833692"
          }
        },
        "d14164c55b8f41d0aa6e7404539e7dfa": {
          "model_module": "@jupyter-widgets/controls",
          "model_name": "HTMLModel",
          "state": {
            "_view_name": "HTMLView",
            "style": "IPY_MODEL_b9c79f27a2e44203b24ce900af0fcfd3",
            "_dom_classes": [],
            "description": "",
            "_model_name": "HTMLModel",
            "placeholder": "​",
            "_view_module": "@jupyter-widgets/controls",
            "_model_module_version": "1.5.0",
            "value": " 29696/? [10:20&lt;00:00, 47.89it/s]",
            "_view_count": null,
            "_view_module_version": "1.5.0",
            "description_tooltip": null,
            "_model_module": "@jupyter-widgets/controls",
            "layout": "IPY_MODEL_6df6908968434f459e6b48addbabea18"
          }
        },
        "e4ea3f1de719412790c8986ce09df2ca": {
          "model_module": "@jupyter-widgets/controls",
          "model_name": "ProgressStyleModel",
          "state": {
            "_view_name": "StyleView",
            "_model_name": "ProgressStyleModel",
            "description_width": "initial",
            "_view_module": "@jupyter-widgets/base",
            "_model_module_version": "1.5.0",
            "_view_count": null,
            "_view_module_version": "1.2.0",
            "bar_color": null,
            "_model_module": "@jupyter-widgets/controls"
          }
        },
        "259f5b9a014e430596f4a66b1a833692": {
          "model_module": "@jupyter-widgets/base",
          "model_name": "LayoutModel",
          "state": {
            "_view_name": "LayoutView",
            "grid_template_rows": null,
            "right": null,
            "justify_content": null,
            "_view_module": "@jupyter-widgets/base",
            "overflow": null,
            "_model_module_version": "1.2.0",
            "_view_count": null,
            "flex_flow": null,
            "width": null,
            "min_width": null,
            "border": null,
            "align_items": null,
            "bottom": null,
            "_model_module": "@jupyter-widgets/base",
            "top": null,
            "grid_column": null,
            "overflow_y": null,
            "overflow_x": null,
            "grid_auto_flow": null,
            "grid_area": null,
            "grid_template_columns": null,
            "flex": null,
            "_model_name": "LayoutModel",
            "justify_items": null,
            "grid_row": null,
            "max_height": null,
            "align_content": null,
            "visibility": null,
            "align_self": null,
            "height": null,
            "min_height": null,
            "padding": null,
            "grid_auto_rows": null,
            "grid_gap": null,
            "max_width": null,
            "order": null,
            "_view_module_version": "1.2.0",
            "grid_template_areas": null,
            "object_position": null,
            "object_fit": null,
            "grid_auto_columns": null,
            "margin": null,
            "display": null,
            "left": null
          }
        },
        "b9c79f27a2e44203b24ce900af0fcfd3": {
          "model_module": "@jupyter-widgets/controls",
          "model_name": "DescriptionStyleModel",
          "state": {
            "_view_name": "StyleView",
            "_model_name": "DescriptionStyleModel",
            "description_width": "",
            "_view_module": "@jupyter-widgets/base",
            "_model_module_version": "1.5.0",
            "_view_count": null,
            "_view_module_version": "1.2.0",
            "_model_module": "@jupyter-widgets/controls"
          }
        },
        "6df6908968434f459e6b48addbabea18": {
          "model_module": "@jupyter-widgets/base",
          "model_name": "LayoutModel",
          "state": {
            "_view_name": "LayoutView",
            "grid_template_rows": null,
            "right": null,
            "justify_content": null,
            "_view_module": "@jupyter-widgets/base",
            "overflow": null,
            "_model_module_version": "1.2.0",
            "_view_count": null,
            "flex_flow": null,
            "width": null,
            "min_width": null,
            "border": null,
            "align_items": null,
            "bottom": null,
            "_model_module": "@jupyter-widgets/base",
            "top": null,
            "grid_column": null,
            "overflow_y": null,
            "overflow_x": null,
            "grid_auto_flow": null,
            "grid_area": null,
            "grid_template_columns": null,
            "flex": null,
            "_model_name": "LayoutModel",
            "justify_items": null,
            "grid_row": null,
            "max_height": null,
            "align_content": null,
            "visibility": null,
            "align_self": null,
            "height": null,
            "min_height": null,
            "padding": null,
            "grid_auto_rows": null,
            "grid_gap": null,
            "max_width": null,
            "order": null,
            "_view_module_version": "1.2.0",
            "grid_template_areas": null,
            "object_position": null,
            "object_fit": null,
            "grid_auto_columns": null,
            "margin": null,
            "display": null,
            "left": null
          }
        },
        "23b09b124c5544b4a2c4ebf26b359d5f": {
          "model_module": "@jupyter-widgets/controls",
          "model_name": "HBoxModel",
          "state": {
            "_view_name": "HBoxView",
            "_dom_classes": [],
            "_model_name": "HBoxModel",
            "_view_module": "@jupyter-widgets/controls",
            "_model_module_version": "1.5.0",
            "_view_count": null,
            "_view_module_version": "1.5.0",
            "box_style": "",
            "layout": "IPY_MODEL_f512e0d1d2424180a8d95e00afbdd594",
            "_model_module": "@jupyter-widgets/controls",
            "children": [
              "IPY_MODEL_217e700827b1499ca2615add143cc334",
              "IPY_MODEL_5616ea3aa2bc4905a1dd11b021ece566"
            ]
          }
        },
        "f512e0d1d2424180a8d95e00afbdd594": {
          "model_module": "@jupyter-widgets/base",
          "model_name": "LayoutModel",
          "state": {
            "_view_name": "LayoutView",
            "grid_template_rows": null,
            "right": null,
            "justify_content": null,
            "_view_module": "@jupyter-widgets/base",
            "overflow": null,
            "_model_module_version": "1.2.0",
            "_view_count": null,
            "flex_flow": null,
            "width": null,
            "min_width": null,
            "border": null,
            "align_items": null,
            "bottom": null,
            "_model_module": "@jupyter-widgets/base",
            "top": null,
            "grid_column": null,
            "overflow_y": null,
            "overflow_x": null,
            "grid_auto_flow": null,
            "grid_area": null,
            "grid_template_columns": null,
            "flex": null,
            "_model_name": "LayoutModel",
            "justify_items": null,
            "grid_row": null,
            "max_height": null,
            "align_content": null,
            "visibility": null,
            "align_self": null,
            "height": null,
            "min_height": null,
            "padding": null,
            "grid_auto_rows": null,
            "grid_gap": null,
            "max_width": null,
            "order": null,
            "_view_module_version": "1.2.0",
            "grid_template_areas": null,
            "object_position": null,
            "object_fit": null,
            "grid_auto_columns": null,
            "margin": null,
            "display": null,
            "left": null
          }
        },
        "217e700827b1499ca2615add143cc334": {
          "model_module": "@jupyter-widgets/controls",
          "model_name": "FloatProgressModel",
          "state": {
            "_view_name": "ProgressView",
            "style": "IPY_MODEL_a74e0140a0e54059bb9ea3772030c80c",
            "_dom_classes": [],
            "description": "",
            "_model_name": "FloatProgressModel",
            "bar_style": "success",
            "max": 1648877,
            "_view_module": "@jupyter-widgets/controls",
            "_model_module_version": "1.5.0",
            "value": 1648877,
            "_view_count": null,
            "_view_module_version": "1.5.0",
            "orientation": "horizontal",
            "min": 0,
            "description_tooltip": null,
            "_model_module": "@jupyter-widgets/controls",
            "layout": "IPY_MODEL_dba8abb344264000890cc57fe232292a"
          }
        },
        "5616ea3aa2bc4905a1dd11b021ece566": {
          "model_module": "@jupyter-widgets/controls",
          "model_name": "HTMLModel",
          "state": {
            "_view_name": "HTMLView",
            "style": "IPY_MODEL_5f82efabd4c6436883227fe412a4377b",
            "_dom_classes": [],
            "description": "",
            "_model_name": "HTMLModel",
            "placeholder": "​",
            "_view_module": "@jupyter-widgets/controls",
            "_model_module_version": "1.5.0",
            "value": " 1649664/? [00:00&lt;00:00, 5679564.82it/s]",
            "_view_count": null,
            "_view_module_version": "1.5.0",
            "description_tooltip": null,
            "_model_module": "@jupyter-widgets/controls",
            "layout": "IPY_MODEL_01f7e4f87dae4154959e41fc6b07856d"
          }
        },
        "a74e0140a0e54059bb9ea3772030c80c": {
          "model_module": "@jupyter-widgets/controls",
          "model_name": "ProgressStyleModel",
          "state": {
            "_view_name": "StyleView",
            "_model_name": "ProgressStyleModel",
            "description_width": "initial",
            "_view_module": "@jupyter-widgets/base",
            "_model_module_version": "1.5.0",
            "_view_count": null,
            "_view_module_version": "1.2.0",
            "bar_color": null,
            "_model_module": "@jupyter-widgets/controls"
          }
        },
        "dba8abb344264000890cc57fe232292a": {
          "model_module": "@jupyter-widgets/base",
          "model_name": "LayoutModel",
          "state": {
            "_view_name": "LayoutView",
            "grid_template_rows": null,
            "right": null,
            "justify_content": null,
            "_view_module": "@jupyter-widgets/base",
            "overflow": null,
            "_model_module_version": "1.2.0",
            "_view_count": null,
            "flex_flow": null,
            "width": null,
            "min_width": null,
            "border": null,
            "align_items": null,
            "bottom": null,
            "_model_module": "@jupyter-widgets/base",
            "top": null,
            "grid_column": null,
            "overflow_y": null,
            "overflow_x": null,
            "grid_auto_flow": null,
            "grid_area": null,
            "grid_template_columns": null,
            "flex": null,
            "_model_name": "LayoutModel",
            "justify_items": null,
            "grid_row": null,
            "max_height": null,
            "align_content": null,
            "visibility": null,
            "align_self": null,
            "height": null,
            "min_height": null,
            "padding": null,
            "grid_auto_rows": null,
            "grid_gap": null,
            "max_width": null,
            "order": null,
            "_view_module_version": "1.2.0",
            "grid_template_areas": null,
            "object_position": null,
            "object_fit": null,
            "grid_auto_columns": null,
            "margin": null,
            "display": null,
            "left": null
          }
        },
        "5f82efabd4c6436883227fe412a4377b": {
          "model_module": "@jupyter-widgets/controls",
          "model_name": "DescriptionStyleModel",
          "state": {
            "_view_name": "StyleView",
            "_model_name": "DescriptionStyleModel",
            "description_width": "",
            "_view_module": "@jupyter-widgets/base",
            "_model_module_version": "1.5.0",
            "_view_count": null,
            "_view_module_version": "1.2.0",
            "_model_module": "@jupyter-widgets/controls"
          }
        },
        "01f7e4f87dae4154959e41fc6b07856d": {
          "model_module": "@jupyter-widgets/base",
          "model_name": "LayoutModel",
          "state": {
            "_view_name": "LayoutView",
            "grid_template_rows": null,
            "right": null,
            "justify_content": null,
            "_view_module": "@jupyter-widgets/base",
            "overflow": null,
            "_model_module_version": "1.2.0",
            "_view_count": null,
            "flex_flow": null,
            "width": null,
            "min_width": null,
            "border": null,
            "align_items": null,
            "bottom": null,
            "_model_module": "@jupyter-widgets/base",
            "top": null,
            "grid_column": null,
            "overflow_y": null,
            "overflow_x": null,
            "grid_auto_flow": null,
            "grid_area": null,
            "grid_template_columns": null,
            "flex": null,
            "_model_name": "LayoutModel",
            "justify_items": null,
            "grid_row": null,
            "max_height": null,
            "align_content": null,
            "visibility": null,
            "align_self": null,
            "height": null,
            "min_height": null,
            "padding": null,
            "grid_auto_rows": null,
            "grid_gap": null,
            "max_width": null,
            "order": null,
            "_view_module_version": "1.2.0",
            "grid_template_areas": null,
            "object_position": null,
            "object_fit": null,
            "grid_auto_columns": null,
            "margin": null,
            "display": null,
            "left": null
          }
        },
        "d6901df92b8a495180d920f47d781885": {
          "model_module": "@jupyter-widgets/controls",
          "model_name": "HBoxModel",
          "state": {
            "_view_name": "HBoxView",
            "_dom_classes": [],
            "_model_name": "HBoxModel",
            "_view_module": "@jupyter-widgets/controls",
            "_model_module_version": "1.5.0",
            "_view_count": null,
            "_view_module_version": "1.5.0",
            "box_style": "",
            "layout": "IPY_MODEL_344a7a54468f488e851ee677994231c7",
            "_model_module": "@jupyter-widgets/controls",
            "children": [
              "IPY_MODEL_0213fc511fe34a11af6bb0a7f78f9a1a",
              "IPY_MODEL_1948dff36ec64821ae1311af75f8d501"
            ]
          }
        },
        "344a7a54468f488e851ee677994231c7": {
          "model_module": "@jupyter-widgets/base",
          "model_name": "LayoutModel",
          "state": {
            "_view_name": "LayoutView",
            "grid_template_rows": null,
            "right": null,
            "justify_content": null,
            "_view_module": "@jupyter-widgets/base",
            "overflow": null,
            "_model_module_version": "1.2.0",
            "_view_count": null,
            "flex_flow": null,
            "width": null,
            "min_width": null,
            "border": null,
            "align_items": null,
            "bottom": null,
            "_model_module": "@jupyter-widgets/base",
            "top": null,
            "grid_column": null,
            "overflow_y": null,
            "overflow_x": null,
            "grid_auto_flow": null,
            "grid_area": null,
            "grid_template_columns": null,
            "flex": null,
            "_model_name": "LayoutModel",
            "justify_items": null,
            "grid_row": null,
            "max_height": null,
            "align_content": null,
            "visibility": null,
            "align_self": null,
            "height": null,
            "min_height": null,
            "padding": null,
            "grid_auto_rows": null,
            "grid_gap": null,
            "max_width": null,
            "order": null,
            "_view_module_version": "1.2.0",
            "grid_template_areas": null,
            "object_position": null,
            "object_fit": null,
            "grid_auto_columns": null,
            "margin": null,
            "display": null,
            "left": null
          }
        },
        "0213fc511fe34a11af6bb0a7f78f9a1a": {
          "model_module": "@jupyter-widgets/controls",
          "model_name": "FloatProgressModel",
          "state": {
            "_view_name": "ProgressView",
            "style": "IPY_MODEL_eed98738cd1e4854aecd288cdcb9aa67",
            "_dom_classes": [],
            "description": "",
            "_model_name": "FloatProgressModel",
            "bar_style": "success",
            "max": 4542,
            "_view_module": "@jupyter-widgets/controls",
            "_model_module_version": "1.5.0",
            "value": 4542,
            "_view_count": null,
            "_view_module_version": "1.5.0",
            "orientation": "horizontal",
            "min": 0,
            "description_tooltip": null,
            "_model_module": "@jupyter-widgets/controls",
            "layout": "IPY_MODEL_0537ff667ad64938b59deb6eb158d02f"
          }
        },
        "1948dff36ec64821ae1311af75f8d501": {
          "model_module": "@jupyter-widgets/controls",
          "model_name": "HTMLModel",
          "state": {
            "_view_name": "HTMLView",
            "style": "IPY_MODEL_f178dbeaea464139a8082ba001af70e7",
            "_dom_classes": [],
            "description": "",
            "_model_name": "HTMLModel",
            "placeholder": "​",
            "_view_module": "@jupyter-widgets/controls",
            "_model_module_version": "1.5.0",
            "value": " 5120/? [10:19&lt;00:00,  8.26it/s]",
            "_view_count": null,
            "_view_module_version": "1.5.0",
            "description_tooltip": null,
            "_model_module": "@jupyter-widgets/controls",
            "layout": "IPY_MODEL_bf7af4726e8240998634a981b490f95b"
          }
        },
        "eed98738cd1e4854aecd288cdcb9aa67": {
          "model_module": "@jupyter-widgets/controls",
          "model_name": "ProgressStyleModel",
          "state": {
            "_view_name": "StyleView",
            "_model_name": "ProgressStyleModel",
            "description_width": "initial",
            "_view_module": "@jupyter-widgets/base",
            "_model_module_version": "1.5.0",
            "_view_count": null,
            "_view_module_version": "1.2.0",
            "bar_color": null,
            "_model_module": "@jupyter-widgets/controls"
          }
        },
        "0537ff667ad64938b59deb6eb158d02f": {
          "model_module": "@jupyter-widgets/base",
          "model_name": "LayoutModel",
          "state": {
            "_view_name": "LayoutView",
            "grid_template_rows": null,
            "right": null,
            "justify_content": null,
            "_view_module": "@jupyter-widgets/base",
            "overflow": null,
            "_model_module_version": "1.2.0",
            "_view_count": null,
            "flex_flow": null,
            "width": null,
            "min_width": null,
            "border": null,
            "align_items": null,
            "bottom": null,
            "_model_module": "@jupyter-widgets/base",
            "top": null,
            "grid_column": null,
            "overflow_y": null,
            "overflow_x": null,
            "grid_auto_flow": null,
            "grid_area": null,
            "grid_template_columns": null,
            "flex": null,
            "_model_name": "LayoutModel",
            "justify_items": null,
            "grid_row": null,
            "max_height": null,
            "align_content": null,
            "visibility": null,
            "align_self": null,
            "height": null,
            "min_height": null,
            "padding": null,
            "grid_auto_rows": null,
            "grid_gap": null,
            "max_width": null,
            "order": null,
            "_view_module_version": "1.2.0",
            "grid_template_areas": null,
            "object_position": null,
            "object_fit": null,
            "grid_auto_columns": null,
            "margin": null,
            "display": null,
            "left": null
          }
        },
        "f178dbeaea464139a8082ba001af70e7": {
          "model_module": "@jupyter-widgets/controls",
          "model_name": "DescriptionStyleModel",
          "state": {
            "_view_name": "StyleView",
            "_model_name": "DescriptionStyleModel",
            "description_width": "",
            "_view_module": "@jupyter-widgets/base",
            "_model_module_version": "1.5.0",
            "_view_count": null,
            "_view_module_version": "1.2.0",
            "_model_module": "@jupyter-widgets/controls"
          }
        },
        "bf7af4726e8240998634a981b490f95b": {
          "model_module": "@jupyter-widgets/base",
          "model_name": "LayoutModel",
          "state": {
            "_view_name": "LayoutView",
            "grid_template_rows": null,
            "right": null,
            "justify_content": null,
            "_view_module": "@jupyter-widgets/base",
            "overflow": null,
            "_model_module_version": "1.2.0",
            "_view_count": null,
            "flex_flow": null,
            "width": null,
            "min_width": null,
            "border": null,
            "align_items": null,
            "bottom": null,
            "_model_module": "@jupyter-widgets/base",
            "top": null,
            "grid_column": null,
            "overflow_y": null,
            "overflow_x": null,
            "grid_auto_flow": null,
            "grid_area": null,
            "grid_template_columns": null,
            "flex": null,
            "_model_name": "LayoutModel",
            "justify_items": null,
            "grid_row": null,
            "max_height": null,
            "align_content": null,
            "visibility": null,
            "align_self": null,
            "height": null,
            "min_height": null,
            "padding": null,
            "grid_auto_rows": null,
            "grid_gap": null,
            "max_width": null,
            "order": null,
            "_view_module_version": "1.2.0",
            "grid_template_areas": null,
            "object_position": null,
            "object_fit": null,
            "grid_auto_columns": null,
            "margin": null,
            "display": null,
            "left": null
          }
        }
      }
    }
  },
  "cells": [
    {
      "cell_type": "markdown",
      "metadata": {
        "id": "view-in-github",
        "colab_type": "text"
      },
      "source": [
        "<a href=\"https://colab.research.google.com/github/venomouscyanide/dl_sain/blob/master/week2/week2.ipynb\" target=\"_parent\"><img src=\"https://colab.research.google.com/assets/colab-badge.svg\" alt=\"Open In Colab\"/></a>"
      ]
    },
    {
      "cell_type": "markdown",
      "metadata": {
        "id": "qsSroywAJaCS"
      },
      "source": [
        "# 1. Rewrite MLP from last week using PyTorch"
      ]
    },
    {
      "cell_type": "code",
      "metadata": {
        "id": "JDBuNcW1QcPU"
      },
      "source": [
        "## All Imports\n",
        "import torch\n",
        "\n",
        "from torch import nn\n",
        "from torch.optim.sgd import SGD\n",
        "from torch.utils.data import DataLoader\n",
        "\n",
        "from torchvision.datasets import MNIST\n",
        "from torchvision.transforms import ToTensor, Lambda"
      ],
      "execution_count": 2,
      "outputs": []
    },
    {
      "cell_type": "code",
      "metadata": {
        "colab": {
          "base_uri": "https://localhost:8080/"
        },
        "id": "Ppy6DWpVJi8S",
        "outputId": "fd6e4d2b-7b31-4322-ccc1-78ec732faa18"
      },
      "source": [
        "# Use Nvidia CUDA if available\n",
        "device = 'cuda' if torch.cuda.is_available() else 'cpu'\n",
        "print(f'Using {device} device')"
      ],
      "execution_count": 3,
      "outputs": [
        {
          "output_type": "stream",
          "text": [
            "Using cuda device\n"
          ],
          "name": "stdout"
        }
      ]
    },
    {
      "cell_type": "markdown",
      "metadata": {
        "id": "U3hiWM59J6Yt"
      },
      "source": [
        "## Class for the Neural Network with 3 layers and size [784, 30, 10]"
      ]
    },
    {
      "cell_type": "code",
      "metadata": {
        "id": "KGIi3NVEJyLZ"
      },
      "source": [
        "class TorchMLP(nn.Module):\n",
        "    def __init__(self):\n",
        "        super().__init__()\n",
        "        self.flatten = nn.Flatten()\n",
        "        self.mlp = nn.Sequential(\n",
        "            nn.Linear(784, 30),\n",
        "            nn.Sigmoid(),\n",
        "            nn.Linear(30, 10),\n",
        "            nn.Sigmoid()\n",
        "        )\n",
        "\n",
        "    def forward(self, data: torch.Tensor) -> torch.Tensor:\n",
        "        data = self.flatten(data)\n",
        "        logits = self.mlp(data)\n",
        "        return logits"
      ],
      "execution_count": 4,
      "outputs": []
    },
    {
      "cell_type": "markdown",
      "metadata": {
        "id": "bSsJvkOFKMQ2"
      },
      "source": [
        "## Initialize the same hyperparameters as week1 "
      ]
    },
    {
      "cell_type": "code",
      "metadata": {
        "id": "W8DjulgQKS_j"
      },
      "source": [
        "class Hyperparameters:\n",
        "    LEARNING_RATE: float = 3\n",
        "    EPOCHS: int = 10\n",
        "    MINI_BATCH_SIZE: int = 10"
      ],
      "execution_count": 5,
      "outputs": []
    },
    {
      "cell_type": "markdown",
      "metadata": {
        "id": "ejOqmttSKUbU"
      },
      "source": [
        "## Write out the training and testing methods"
      ]
    },
    {
      "cell_type": "code",
      "metadata": {
        "id": "VrGWbm-jKYGC"
      },
      "source": [
        "def _train(model: TorchMLP, training_loader: DataLoader, learning_rate: float):\n",
        "    optimizer = SGD(model.parameters(), learning_rate)\n",
        "    loss_function = nn.MSELoss()\n",
        "\n",
        "    for input, expected_output in training_loader.dataset:\n",
        "        prediction = model(input.to(device))\n",
        "        loss = loss_function(prediction, expected_output.to(device))\n",
        "\n",
        "        # Backpropagation steps\n",
        "        optimizer.zero_grad()\n",
        "        loss.backward()\n",
        "        optimizer.step()\n",
        "\n",
        "\n",
        "def _test_accuracy(model: TorchMLP, testing_loader: DataLoader, epoch: int):\n",
        "    total_size = len(testing_loader.dataset)\n",
        "    correct_classifications = 0\n",
        "    for input, expected_output in testing_loader.dataset:\n",
        "        prediction = model(input.to(device))\n",
        "        predicted_digit = prediction.to(device).argmax().__index__()\n",
        "        expected_digit = expected_output.argmax().__index__()\n",
        "        if expected_digit == predicted_digit:\n",
        "            correct_classifications += 1\n",
        "    print(f'Accuracy on testing data for epoch {epoch} is: {round((correct_classifications / total_size * 100), 2)}%')\n"
      ],
      "execution_count": 6,
      "outputs": []
    },
    {
      "cell_type": "markdown",
      "metadata": {
        "id": "SVLGASipKa6m"
      },
      "source": [
        "## Finally the write out the driver for running training and evaluating the network"
      ]
    },
    {
      "cell_type": "code",
      "metadata": {
        "id": "Vym1KJyNKkID"
      },
      "source": [
        "def train_and_eval_torch_mlp():\n",
        "    train_data = MNIST(root='mnist_torch_data', train=True, download=True, transform=ToTensor(),\n",
        "                             target_transform=Lambda(\n",
        "                                 lambda y: torch.zeros(10, dtype=torch.float).scatter_(0, torch.tensor(y),\n",
        "                                                                                       value=1).reshape(1, 10)\n",
        "                             ))\n",
        "    test_data = MNIST(root='mnist_torch_data', train=False, download=True, transform=ToTensor(),\n",
        "                            target_transform=Lambda(\n",
        "                                lambda y: torch.zeros(10, dtype=torch.float).scatter_(0, torch.tensor(y),\n",
        "                                                                                      value=1).reshape(1, 10)\n",
        "                            ))\n",
        "\n",
        "    params = Hyperparameters\n",
        "    training_loader = DataLoader(train_data, batch_size=params.MINI_BATCH_SIZE, shuffle=True)\n",
        "    testing_loader = DataLoader(test_data, batch_size=params.MINI_BATCH_SIZE, shuffle=True)\n",
        "\n",
        "    model = TorchMLP().to(device)\n",
        "    for epoch in range(params.EPOCHS):\n",
        "        print(f\"Training for epoch: {epoch}\")\n",
        "        _train(model, training_loader, params.LEARNING_RATE)\n",
        "        _test_accuracy(model, testing_loader, epoch)"
      ],
      "execution_count": 7,
      "outputs": []
    },
    {
      "cell_type": "code",
      "metadata": {
        "colab": {
          "base_uri": "https://localhost:8080/",
          "height": 1000,
          "referenced_widgets": [
            "5ad036cf8e29413993a819a69663a239",
            "9c2db9ac13964b79b60ce09761769f4e",
            "39f1cbe624cf4bba995da0a256d12ae1",
            "489f3371d66343febdc5c549ae6bbf5c",
            "7849501ddd4b4cb68b6dbd0c2bc46371",
            "9b6b2297bbef4d9e993a870104cc2383",
            "5d5bc2aa92dd4af08e422c0bc14cb1d3",
            "2ea0ad5d18b748a0ab0da02a34a35176",
            "a5bb988ed23f4cd8b630bb78fbb8f79a",
            "125aadf27a5049cc93871f6268794dbe",
            "0903ac1d7927495aa3a29d16d20fb8ff",
            "d14164c55b8f41d0aa6e7404539e7dfa",
            "e4ea3f1de719412790c8986ce09df2ca",
            "259f5b9a014e430596f4a66b1a833692",
            "b9c79f27a2e44203b24ce900af0fcfd3",
            "6df6908968434f459e6b48addbabea18",
            "23b09b124c5544b4a2c4ebf26b359d5f",
            "f512e0d1d2424180a8d95e00afbdd594",
            "217e700827b1499ca2615add143cc334",
            "5616ea3aa2bc4905a1dd11b021ece566",
            "a74e0140a0e54059bb9ea3772030c80c",
            "dba8abb344264000890cc57fe232292a",
            "5f82efabd4c6436883227fe412a4377b",
            "01f7e4f87dae4154959e41fc6b07856d",
            "d6901df92b8a495180d920f47d781885",
            "344a7a54468f488e851ee677994231c7",
            "0213fc511fe34a11af6bb0a7f78f9a1a",
            "1948dff36ec64821ae1311af75f8d501",
            "eed98738cd1e4854aecd288cdcb9aa67",
            "0537ff667ad64938b59deb6eb158d02f",
            "f178dbeaea464139a8082ba001af70e7",
            "bf7af4726e8240998634a981b490f95b"
          ]
        },
        "id": "TQQeHZnsKmSH",
        "outputId": "6057c0a5-060b-4a51-b84c-8da4c51d1366"
      },
      "source": [
        "train_and_eval_torch_mlp()"
      ],
      "execution_count": 8,
      "outputs": [
        {
          "output_type": "stream",
          "text": [
            "Downloading http://yann.lecun.com/exdb/mnist/train-images-idx3-ubyte.gz\n",
            "Failed to download (trying next):\n",
            "HTTP Error 503: Service Unavailable\n",
            "\n",
            "Downloading https://ossci-datasets.s3.amazonaws.com/mnist/train-images-idx3-ubyte.gz\n",
            "Downloading https://ossci-datasets.s3.amazonaws.com/mnist/train-images-idx3-ubyte.gz to mnist_torch_data/MNIST/raw/train-images-idx3-ubyte.gz\n"
          ],
          "name": "stdout"
        },
        {
          "output_type": "display_data",
          "data": {
            "application/vnd.jupyter.widget-view+json": {
              "model_id": "5ad036cf8e29413993a819a69663a239",
              "version_minor": 0,
              "version_major": 2
            },
            "text/plain": [
              "HBox(children=(FloatProgress(value=0.0, max=9912422.0), HTML(value='')))"
            ]
          },
          "metadata": {
            "tags": []
          }
        },
        {
          "output_type": "stream",
          "text": [
            "\n",
            "Extracting mnist_torch_data/MNIST/raw/train-images-idx3-ubyte.gz to mnist_torch_data/MNIST/raw\n",
            "\n",
            "Downloading http://yann.lecun.com/exdb/mnist/train-labels-idx1-ubyte.gz\n",
            "Failed to download (trying next):\n",
            "HTTP Error 503: Service Unavailable\n",
            "\n",
            "Downloading https://ossci-datasets.s3.amazonaws.com/mnist/train-labels-idx1-ubyte.gz\n",
            "Downloading https://ossci-datasets.s3.amazonaws.com/mnist/train-labels-idx1-ubyte.gz to mnist_torch_data/MNIST/raw/train-labels-idx1-ubyte.gz\n"
          ],
          "name": "stdout"
        },
        {
          "output_type": "display_data",
          "data": {
            "application/vnd.jupyter.widget-view+json": {
              "model_id": "a5bb988ed23f4cd8b630bb78fbb8f79a",
              "version_minor": 0,
              "version_major": 2
            },
            "text/plain": [
              "HBox(children=(FloatProgress(value=0.0, max=28881.0), HTML(value='')))"
            ]
          },
          "metadata": {
            "tags": []
          }
        },
        {
          "output_type": "stream",
          "text": [
            "\n",
            "Extracting mnist_torch_data/MNIST/raw/train-labels-idx1-ubyte.gz to mnist_torch_data/MNIST/raw\n",
            "\n",
            "Downloading http://yann.lecun.com/exdb/mnist/t10k-images-idx3-ubyte.gz\n",
            "Failed to download (trying next):\n",
            "HTTP Error 503: Service Unavailable\n",
            "\n",
            "Downloading https://ossci-datasets.s3.amazonaws.com/mnist/t10k-images-idx3-ubyte.gz\n",
            "Downloading https://ossci-datasets.s3.amazonaws.com/mnist/t10k-images-idx3-ubyte.gz to mnist_torch_data/MNIST/raw/t10k-images-idx3-ubyte.gz\n"
          ],
          "name": "stdout"
        },
        {
          "output_type": "display_data",
          "data": {
            "application/vnd.jupyter.widget-view+json": {
              "model_id": "23b09b124c5544b4a2c4ebf26b359d5f",
              "version_minor": 0,
              "version_major": 2
            },
            "text/plain": [
              "HBox(children=(FloatProgress(value=0.0, max=1648877.0), HTML(value='')))"
            ]
          },
          "metadata": {
            "tags": []
          }
        },
        {
          "output_type": "stream",
          "text": [
            "\n",
            "Extracting mnist_torch_data/MNIST/raw/t10k-images-idx3-ubyte.gz to mnist_torch_data/MNIST/raw\n",
            "\n",
            "Downloading http://yann.lecun.com/exdb/mnist/t10k-labels-idx1-ubyte.gz\n",
            "Failed to download (trying next):\n",
            "HTTP Error 503: Service Unavailable\n",
            "\n",
            "Downloading https://ossci-datasets.s3.amazonaws.com/mnist/t10k-labels-idx1-ubyte.gz\n",
            "Downloading https://ossci-datasets.s3.amazonaws.com/mnist/t10k-labels-idx1-ubyte.gz to mnist_torch_data/MNIST/raw/t10k-labels-idx1-ubyte.gz\n"
          ],
          "name": "stdout"
        },
        {
          "output_type": "display_data",
          "data": {
            "application/vnd.jupyter.widget-view+json": {
              "model_id": "d6901df92b8a495180d920f47d781885",
              "version_minor": 0,
              "version_major": 2
            },
            "text/plain": [
              "HBox(children=(FloatProgress(value=0.0, max=4542.0), HTML(value='')))"
            ]
          },
          "metadata": {
            "tags": []
          }
        },
        {
          "output_type": "stream",
          "text": [
            "\n",
            "Extracting mnist_torch_data/MNIST/raw/t10k-labels-idx1-ubyte.gz to mnist_torch_data/MNIST/raw\n",
            "\n",
            "Processing...\n",
            "Done!\n"
          ],
          "name": "stdout"
        },
        {
          "output_type": "stream",
          "text": [
            "/usr/local/lib/python3.7/dist-packages/torchvision/datasets/mnist.py:502: UserWarning: The given NumPy array is not writeable, and PyTorch does not support non-writeable tensors. This means you can write to the underlying (supposedly non-writeable) NumPy array using the tensor. You may want to copy the array to protect its data or make it writeable before converting it to a tensor. This type of warning will be suppressed for the rest of this program. (Triggered internally at  /pytorch/torch/csrc/utils/tensor_numpy.cpp:143.)\n",
            "  return torch.from_numpy(parsed.astype(m[2], copy=False)).view(*s)\n"
          ],
          "name": "stderr"
        },
        {
          "output_type": "stream",
          "text": [
            "Training for epoch: 0\n",
            "Accuracy on testing data for epoch 0 is: 92.51%\n",
            "Training for epoch: 1\n",
            "Accuracy on testing data for epoch 1 is: 94.06%\n",
            "Training for epoch: 2\n",
            "Accuracy on testing data for epoch 2 is: 94.36%\n",
            "Training for epoch: 3\n",
            "Accuracy on testing data for epoch 3 is: 94.59%\n",
            "Training for epoch: 4\n",
            "Accuracy on testing data for epoch 4 is: 94.92%\n",
            "Training for epoch: 5\n",
            "Accuracy on testing data for epoch 5 is: 95.11%\n",
            "Training for epoch: 6\n",
            "Accuracy on testing data for epoch 6 is: 95.01%\n",
            "Training for epoch: 7\n",
            "Accuracy on testing data for epoch 7 is: 94.89%\n",
            "Training for epoch: 8\n",
            "Accuracy on testing data for epoch 8 is: 95.06%\n",
            "Training for epoch: 9\n",
            "Accuracy on testing data for epoch 9 is: 94.85%\n"
          ],
          "name": "stdout"
        }
      ]
    },
    {
      "cell_type": "markdown",
      "metadata": {
        "id": "eDZ3y1TYSwMZ"
      },
      "source": [
        "# 2. Improve week1 MLP\n",
        "## Improvements made\n",
        "- Add better weight initialization for weight matrixes\n",
        "- Add L2 normalization(lmda hyper parameter added)\n",
        "- Use relu activation for hidden layers\n",
        "- Use softmax for the output layer\n",
        "- Use Cross Entropy cost function\n",
        "\n",
        "Changes made to the previous week's methods are highlighted using comments\n",
        "\n",
        "The hyperparameters are also updated to produce a deeper network"
      ]
    },
    {
      "cell_type": "code",
      "metadata": {
        "id": "dmiGwNVASr1J",
        "colab": {
          "base_uri": "https://localhost:8080/"
        },
        "outputId": "c35daaf4-89b6-448e-a4db-caa8ab387018"
      },
      "source": [
        "!pip install gdown==3.13.0"
      ],
      "execution_count": 1,
      "outputs": [
        {
          "output_type": "stream",
          "text": [
            "Requirement already satisfied: gdown==3.13.0 in /usr/local/lib/python3.7/dist-packages (3.13.0)\n",
            "Requirement already satisfied: tqdm in /usr/local/lib/python3.7/dist-packages (from gdown==3.13.0) (4.41.1)\n",
            "Requirement already satisfied: six in /usr/local/lib/python3.7/dist-packages (from gdown==3.13.0) (1.15.0)\n",
            "Requirement already satisfied: filelock in /usr/local/lib/python3.7/dist-packages (from gdown==3.13.0) (3.0.12)\n",
            "Requirement already satisfied: requests[socks]>=2.12.0 in /usr/local/lib/python3.7/dist-packages (from gdown==3.13.0) (2.23.0)\n",
            "Requirement already satisfied: urllib3!=1.25.0,!=1.25.1,<1.26,>=1.21.1 in /usr/local/lib/python3.7/dist-packages (from requests[socks]>=2.12.0->gdown==3.13.0) (1.24.3)\n",
            "Requirement already satisfied: chardet<4,>=3.0.2 in /usr/local/lib/python3.7/dist-packages (from requests[socks]>=2.12.0->gdown==3.13.0) (3.0.4)\n",
            "Requirement already satisfied: idna<3,>=2.5 in /usr/local/lib/python3.7/dist-packages (from requests[socks]>=2.12.0->gdown==3.13.0) (2.10)\n",
            "Requirement already satisfied: certifi>=2017.4.17 in /usr/local/lib/python3.7/dist-packages (from requests[socks]>=2.12.0->gdown==3.13.0) (2020.12.5)\n",
            "Requirement already satisfied: PySocks!=1.5.7,>=1.5.6; extra == \"socks\" in /usr/local/lib/python3.7/dist-packages (from requests[socks]>=2.12.0->gdown==3.13.0) (1.7.1)\n"
          ],
          "name": "stdout"
        }
      ]
    },
    {
      "cell_type": "markdown",
      "metadata": {
        "id": "nKaI4H6WkGki"
      },
      "source": [
        "## Init all imports"
      ]
    },
    {
      "cell_type": "code",
      "metadata": {
        "id": "CGoAe6x8fL3U"
      },
      "source": [
        "import struct\n",
        "import gzip\n",
        "import shutil\n",
        "from typing import Tuple, List\n",
        "\n",
        "# Third-party imports\n",
        "import numpy as np\n",
        "import gdown\n",
        "\n"
      ],
      "execution_count": 2,
      "outputs": []
    },
    {
      "cell_type": "markdown",
      "metadata": {
        "id": "sZ4dDW_QkQWK"
      },
      "source": [
        "## Use same week1 MNIST dataloader"
      ]
    },
    {
      "cell_type": "code",
      "metadata": {
        "id": "YaXdX5TTfUzc"
      },
      "source": [
        "class MNISTDataLoader:\n",
        "    # explanation of idx file formats: http://yann.lecun.com/exdb/mnist/\n",
        "    # help wrt parsing data: https://stackoverflow.com/a/53181925\n",
        "\n",
        "    TRAINING_DATA_URL: str = 'https://drive.google.com/uc?id=1pmI9wAdNtJkOvkJpdTqM9bmIAwPkGyMU'\n",
        "    TRAINING_DATA_LABELS_URL: str = 'https://drive.google.com/uc?id=1R8BZL67U1N0GUGnf6AQIBZNVDCWO9QLS'\n",
        "    TESTING_DATA_URL: str = 'https://drive.google.com/uc?id=10FdcUHw3BcQAU6keKaUwtDwJm4sC00Hu'\n",
        "    TESTING_DATA_LABELS_URL: str = 'https://drive.google.com/uc?id=1GvsacEnI1eQ1vYZM-oYdERvaE2SPh0Lj'\n",
        "\n",
        "    def load_data_wrapper(self):\n",
        "        testing_data_tuple = self.load_data_as_ndarray(self.TESTING_DATA_URL, self.TESTING_DATA_LABELS_URL, False)\n",
        "        training_data_tuple = self.load_data_as_ndarray(self.TRAINING_DATA_URL, self.TRAINING_DATA_LABELS_URL, True)\n",
        "        return training_data_tuple, testing_data_tuple\n",
        "\n",
        "    def load_data_as_ndarray(self, data_file_url: str, data_labels_file_url: str, train: bool) -> List[\n",
        "        Tuple[np.ndarray, int]]:\n",
        "        uncompressed_dataset = self._download_and_uncompressed_file(data_file_url)\n",
        "        uncompressed_labels = self._download_and_uncompressed_file(data_labels_file_url)\n",
        "        pixel_data = self._get_pixel_data(uncompressed_dataset)\n",
        "        label_data = self._get_labels(uncompressed_labels)\n",
        "        zipped_data = [\n",
        "            (x.reshape(784, 1), self._one_hot_enc(y) if train else y[0]) for x, y in zip(pixel_data, label_data)\n",
        "        ]\n",
        "        return zipped_data\n",
        "\n",
        "    def _one_hot_enc(self, y: np.ndarray):\n",
        "        one_hot_vector = np.zeros((10, 1))\n",
        "        one_hot_vector[y[0]][0] = 1\n",
        "        return one_hot_vector\n",
        "\n",
        "    def _download_and_uncompressed_file(self, url: str) -> str:\n",
        "        downloaded_gzip = gdown.download(url, quiet=True)\n",
        "        decompressed_data_file = self._write_decompressed_data(downloaded_gzip)\n",
        "        return decompressed_data_file\n",
        "\n",
        "    def _write_decompressed_data(self, downloaded_gzip: str) -> str:\n",
        "        with gzip.open(downloaded_gzip, 'rb') as compressed:\n",
        "            uncompressed_dataset = downloaded_gzip.replace('.gz', '')\n",
        "            with open(uncompressed_dataset, 'wb') as decompressed:\n",
        "                shutil.copyfileobj(compressed, decompressed)\n",
        "        return uncompressed_dataset\n",
        "\n",
        "    def _get_pixel_data(self, data_file: str) -> np.ndarray:\n",
        "        with open(data_file, \"rb\") as dataset:\n",
        "            _, num_data = struct.unpack(\">II\", dataset.read(8))\n",
        "            num_rows, num_colums = struct.unpack(\">II\", dataset.read(8))\n",
        "            pixel_data = np.fromfile(dataset, dtype=np.uint8) / 255\n",
        "            pixel_data = pixel_data.reshape((num_data, num_rows * num_colums))\n",
        "        return pixel_data\n",
        "\n",
        "    def _get_labels(self, data_labels_file: str) -> np.ndarray:\n",
        "        with open(data_labels_file, \"rb\") as labels:\n",
        "            _, num_data = struct.unpack(\">II\", labels.read(8))\n",
        "            label_data = np.fromfile(labels, dtype=np.uint8)\n",
        "            label_data = label_data.reshape((num_data, -1))\n",
        "        return label_data"
      ],
      "execution_count": 3,
      "outputs": []
    },
    {
      "cell_type": "markdown",
      "metadata": {
        "id": "R_3LaHwfkRNG"
      },
      "source": [
        "## Use relu and softmax instead of sigmoid as activations functions "
      ]
    },
    {
      "cell_type": "code",
      "metadata": {
        "id": "C_tUfZBmfX3j"
      },
      "source": [
        "class NetworkUtils:\n",
        "    # Replace sigmoid with relu for hidden and softmax for output layer\n",
        "    @staticmethod\n",
        "    def relu(z: np.ndarray) -> np.ndarray:\n",
        "        return np.maximum(z, 0.0)\n",
        "\n",
        "    @staticmethod\n",
        "    def relu_prime(z: np.ndarray) -> np.ndarray:\n",
        "        return (z > 0.0) * 1\n",
        "\n",
        "    @staticmethod\n",
        "    def softmax(z):\n",
        "        exp_z = np.exp(z)\n",
        "        return exp_z / sum(exp_z)\n"
      ],
      "execution_count": 4,
      "outputs": []
    },
    {
      "cell_type": "markdown",
      "metadata": {
        "id": "gPxgAJgekXJD"
      },
      "source": [
        "## The improved neural net\n",
        "All changes made to last week's net is highlighted through Python comments"
      ]
    },
    {
      "cell_type": "code",
      "metadata": {
        "id": "f-91WBkwfaAU"
      },
      "source": [
        "class Network:\n",
        "    def __init__(self, training_data: List[Tuple[np.ndarray, np.ndarray]],\n",
        "                 testing_data: List[Tuple[np.ndarray, int]],\n",
        "                 size: List[int], learning_rate: float, epochs: int,\n",
        "                 mini_batch_size: int, lmda: int):\n",
        "        self.training_data = training_data\n",
        "        self.testing_data = testing_data\n",
        "        self.size = size\n",
        "        self.num_layers = len(size)\n",
        "        self.learning_rate = learning_rate\n",
        "        self.biases = []\n",
        "        self.weights = []\n",
        "        self._init_biases()\n",
        "        self._init_weights()\n",
        "        self.epochs = epochs\n",
        "        self.mini_batch_size = mini_batch_size\n",
        "        self.lmda = lmda\n",
        "\n",
        "    def _init_biases(self):\n",
        "        for i in range(1, self.num_layers):\n",
        "            self.biases.append(np.random.randn(self.size[i], 1))\n",
        "\n",
        "    def _init_weights(self):\n",
        "        bias_matrix_sizes = [(self.size[x + 1], self.size[x]) for x in range(self.num_layers - 1)]\n",
        "        # Init weights by dividing by sqrt of each neuron's input size\n",
        "        for x, y in bias_matrix_sizes:\n",
        "            std_dev = 1 / np.sqrt(y)\n",
        "            self.weights.append(np.random.randn(x, y) * std_dev)\n",
        "\n",
        "    def train(self):\n",
        "        for epoch in range(self.epochs):\n",
        "            np.random.shuffle(self.training_data)\n",
        "            print(f\"Start training for epoch: {epoch + 1} of {self.epochs}\")\n",
        "\n",
        "            num_mini_batches = len(self.training_data) // self.mini_batch_size\n",
        "            mini_batches = self._create_mini_batches()\n",
        "\n",
        "            for batch, mini_batch in enumerate(mini_batches, start=1):\n",
        "                self._update_b_w(mini_batch)\n",
        "\n",
        "            self._calc_accuracy(epoch + 1)\n",
        "\n",
        "    def _create_mini_batches(self) -> List[List[Tuple[np.ndarray, np.ndarray]]]:\n",
        "        mini_batches = [\n",
        "            self.training_data[multiple:multiple + self.mini_batch_size] for multiple in\n",
        "            range(0, len(self.training_data), self.mini_batch_size)\n",
        "        ]\n",
        "        return mini_batches\n",
        "\n",
        "    def _update_b_w(self, mini_batch: List[Tuple[np.ndarray, np.ndarray]]):\n",
        "        nabla_bias = self._get_nabla_bias_zeroes()\n",
        "        nabla_wt = self._get_nabla_wt_zeroes()\n",
        "\n",
        "        for x, y in mini_batch:\n",
        "            del_bias, del_wt = self._run_back_propagation(x, y)\n",
        "\n",
        "            nabla_bias = [curr_b + del_b for curr_b, del_b in zip(nabla_bias, del_bias)]\n",
        "            nabla_wt = [curr_wt + del_w for curr_wt, del_w in zip(nabla_wt, del_wt)]\n",
        "\n",
        "        self.biases = [\n",
        "            b - ((self.learning_rate / self.mini_batch_size) * nb) for b, nb in zip(self.biases, nabla_bias)\n",
        "        ]\n",
        "        # Add L2 normalization\n",
        "        self.weights = [\n",
        "            np.dot(w, 1 - (self.learning_rate * self.lmda) / len(self.training_data)) -\n",
        "            ((self.learning_rate / self.mini_batch_size) * nw) for w, nw in zip(self.weights, nabla_wt)\n",
        "        ]\n",
        "\n",
        "    def _get_nabla_bias_zeroes(self) -> List[np.ndarray]:\n",
        "        return [np.zeros(np.shape(bias)) for bias in self.biases]\n",
        "\n",
        "    def _get_nabla_wt_zeroes(self) -> List[np.ndarray]:\n",
        "        return [np.zeros(np.shape(wt)) for wt in self.weights]\n",
        "\n",
        "    def _run_back_propagation(self, x: np.ndarray, y: np.ndarray) -> Tuple[List[np.ndarray], List[np.ndarray]]:\n",
        "        nabla_bias = self._get_nabla_bias_zeroes()\n",
        "        nabla_wt = self._get_nabla_wt_zeroes()\n",
        "\n",
        "        activations, z_list = self.feedforward(x)\n",
        "        # Delta for cross entropy\n",
        "        error_l = self._delta_cross_entropy(activations[-1], y)\n",
        "\n",
        "        nabla_bias[-1] = error_l\n",
        "        nabla_wt[-1] = np.dot(error_l, np.transpose(activations[-2]))\n",
        "\n",
        "        for layer in range(self.num_layers - 2, 0, -1):\n",
        "            error_l = np.multiply(\n",
        "                np.dot(np.transpose(self.weights[layer]), error_l), NetworkUtils.relu_prime(z_list[layer - 1])\n",
        "            )\n",
        "\n",
        "            nabla_bias[layer - 1] = error_l\n",
        "            nabla_wt[layer - 1] = np.dot(error_l, activations[layer - 1].transpose())\n",
        "\n",
        "        return nabla_bias, nabla_wt\n",
        "\n",
        "    def _delta_cross_entropy(self, a_l: np.ndarray, y: np.ndarray) -> np.ndarray:\n",
        "        return a_l - y\n",
        "\n",
        "    def _calc_accuracy(self, epoch: int):\n",
        "        correct_results = 0\n",
        "        total_results = len(self.testing_data)\n",
        "        for x, y in self.testing_data:\n",
        "            activations, _ = self.feedforward(x)\n",
        "            logit = activations[-1]\n",
        "            if np.argmax(logit) == y:\n",
        "                correct_results += 1\n",
        "        print(\n",
        "            f\"Accuracy on testing data for epoch {epoch}: {round((correct_results / total_results) * 100, 2)}\"\n",
        "        )\n",
        "\n",
        "    def feedforward(self, x: np.ndarray) -> Tuple[List[np.ndarray], List[np.ndarray]]:\n",
        "        a = x\n",
        "        activations, z_list = list(), list()\n",
        "        activations.append(x)\n",
        "        self._set_relu_activations(a, z_list, activations)\n",
        "        self._set_softmax_activation(activations[-1], z_list, activations)\n",
        "        return activations, z_list\n",
        "\n",
        "    def _set_relu_activations(self, a: np.ndarray, z_list: List[np.ndarray], activations: List[np.ndarray]):\n",
        "        for layer in range(self.num_layers - 2):\n",
        "            # hidden layers(relu activation)\n",
        "            z = np.dot(self.weights[layer], a) + self.biases[layer]\n",
        "            z_list.append(z)\n",
        "            a = NetworkUtils.relu(z)\n",
        "            activations.append(a)\n",
        "\n",
        "    def _set_softmax_activation(self, a: np.ndarray, z_list: List[np.ndarray], activations: List[np.ndarray]):\n",
        "        # output layer(softmax activation)\n",
        "        z = np.dot(self.weights[-1], a) + self.biases[-1]\n",
        "        z_list.append(z)\n",
        "        a = NetworkUtils.softmax(z)\n",
        "        activations.append(a)"
      ],
      "execution_count": 5,
      "outputs": []
    },
    {
      "cell_type": "markdown",
      "metadata": {
        "id": "_XEw7GIhkftc"
      },
      "source": [
        "## Driver method for training and evaluation per 15 epochs"
      ]
    },
    {
      "cell_type": "code",
      "metadata": {
        "id": "KcA3CEBOfe84"
      },
      "source": [
        "def train_and_eval():\n",
        "    training, testing = MNISTDataLoader().load_data_wrapper()\n",
        "    params = Hyperparameters()\n",
        "    print(params)\n",
        "    mlp = Network(training, testing, params.SIZE, params.LEARNING_RATE, params.EPOCHS, params.MINI_BATCH_SIZE,\n",
        "                  params.LMDA)\n",
        "    mlp.train()"
      ],
      "execution_count": 6,
      "outputs": []
    },
    {
      "cell_type": "markdown",
      "metadata": {
        "id": "R8utqE96koS8"
      },
      "source": [
        "## Init the hyperparameters and call the driver method\n",
        "For each experiment I print the hyper parameter class to show the parameters set\n",
        "<br> First try with a 3 level network(setting 1) "
      ]
    },
    {
      "cell_type": "code",
      "metadata": {
        "colab": {
          "base_uri": "https://localhost:8080/"
        },
        "id": "XJm8s0_Hfgbo",
        "outputId": "a342a4c3-bb03-410d-d450-363a43627ceb"
      },
      "source": [
        "class Hyperparameters:\n",
        "    SIZE: List[int] = [28 * 28, 100, 10]\n",
        "    LEARNING_RATE: float = 0.1\n",
        "    EPOCHS: int = 30\n",
        "    MINI_BATCH_SIZE: int = 100\n",
        "    # Add lambda hyperparameter\n",
        "    LMDA: int = 5\n",
        "\n",
        "    def __str__(self) -> str:\n",
        "        str_rep = \"\"\n",
        "        str_rep += \"Hyperparameters set are as follows\"\n",
        "        for hyper_param in self.__annotations__:\n",
        "            str_rep += f' \\n {hyper_param}: {getattr(self, hyper_param)}'\n",
        "        return str_rep\n",
        "\n",
        "train_and_eval()"
      ],
      "execution_count": 7,
      "outputs": [
        {
          "output_type": "stream",
          "text": [
            "Hyperparameters set are as follows \n",
            " SIZE: [784, 100, 10] \n",
            " LEARNING_RATE: 0.1 \n",
            " EPOCHS: 30 \n",
            " MINI_BATCH_SIZE: 100 \n",
            " LMDA: 5\n",
            "Start training for epoch: 1 of 30\n",
            "Accuracy on testing data for epoch 1: 91.75\n",
            "Start training for epoch: 2 of 30\n",
            "Accuracy on testing data for epoch 2: 93.33\n",
            "Start training for epoch: 3 of 30\n",
            "Accuracy on testing data for epoch 3: 94.35\n",
            "Start training for epoch: 4 of 30\n",
            "Accuracy on testing data for epoch 4: 95.15\n",
            "Start training for epoch: 5 of 30\n",
            "Accuracy on testing data for epoch 5: 95.57\n",
            "Start training for epoch: 6 of 30\n",
            "Accuracy on testing data for epoch 6: 96.02\n",
            "Start training for epoch: 7 of 30\n",
            "Accuracy on testing data for epoch 7: 96.18\n",
            "Start training for epoch: 8 of 30\n",
            "Accuracy on testing data for epoch 8: 96.43\n",
            "Start training for epoch: 9 of 30\n",
            "Accuracy on testing data for epoch 9: 96.64\n",
            "Start training for epoch: 10 of 30\n",
            "Accuracy on testing data for epoch 10: 96.71\n",
            "Start training for epoch: 11 of 30\n",
            "Accuracy on testing data for epoch 11: 96.89\n",
            "Start training for epoch: 12 of 30\n",
            "Accuracy on testing data for epoch 12: 96.98\n",
            "Start training for epoch: 13 of 30\n",
            "Accuracy on testing data for epoch 13: 97.01\n",
            "Start training for epoch: 14 of 30\n",
            "Accuracy on testing data for epoch 14: 97.25\n",
            "Start training for epoch: 15 of 30\n",
            "Accuracy on testing data for epoch 15: 97.18\n",
            "Start training for epoch: 16 of 30\n",
            "Accuracy on testing data for epoch 16: 97.3\n",
            "Start training for epoch: 17 of 30\n",
            "Accuracy on testing data for epoch 17: 97.36\n",
            "Start training for epoch: 18 of 30\n",
            "Accuracy on testing data for epoch 18: 97.32\n",
            "Start training for epoch: 19 of 30\n",
            "Accuracy on testing data for epoch 19: 97.36\n",
            "Start training for epoch: 20 of 30\n",
            "Accuracy on testing data for epoch 20: 97.33\n",
            "Start training for epoch: 21 of 30\n",
            "Accuracy on testing data for epoch 21: 97.5\n",
            "Start training for epoch: 22 of 30\n",
            "Accuracy on testing data for epoch 22: 97.5\n",
            "Start training for epoch: 23 of 30\n",
            "Accuracy on testing data for epoch 23: 97.49\n",
            "Start training for epoch: 24 of 30\n",
            "Accuracy on testing data for epoch 24: 97.52\n",
            "Start training for epoch: 25 of 30\n",
            "Accuracy on testing data for epoch 25: 97.52\n",
            "Start training for epoch: 26 of 30\n",
            "Accuracy on testing data for epoch 26: 97.62\n",
            "Start training for epoch: 27 of 30\n",
            "Accuracy on testing data for epoch 27: 97.57\n",
            "Start training for epoch: 28 of 30\n",
            "Accuracy on testing data for epoch 28: 97.55\n",
            "Start training for epoch: 29 of 30\n",
            "Accuracy on testing data for epoch 29: 97.56\n",
            "Start training for epoch: 30 of 30\n",
            "Accuracy on testing data for epoch 30: 97.5\n"
          ],
          "name": "stdout"
        }
      ]
    },
    {
      "cell_type": "markdown",
      "metadata": {
        "id": "GLsR1B4JPH9H"
      },
      "source": [
        "Try with a 4 level network(setting 2) "
      ]
    },
    {
      "cell_type": "code",
      "metadata": {
        "colab": {
          "base_uri": "https://localhost:8080/"
        },
        "id": "6zpQmoqCO56V",
        "outputId": "c3dd23c2-2e5e-47c6-e481-1dfa14452931"
      },
      "source": [
        "class Hyperparameters:\n",
        "    SIZE: List[int] = [28 * 28, 100, 100, 10]\n",
        "    LEARNING_RATE: float = 0.01\n",
        "    EPOCHS: int = 45\n",
        "    MINI_BATCH_SIZE: int = 10\n",
        "    # Add lambda hyperparameter\n",
        "    LMDA: int = 5\n",
        "\n",
        "    def __str__(self) -> str:\n",
        "        str_rep = \"\"\n",
        "        str_rep += \"Hyperparameters set are as follows\"\n",
        "        for hyper_param in self.__annotations__:\n",
        "            str_rep += f' \\n {hyper_param}: {getattr(self, hyper_param)}'\n",
        "        return str_rep\n",
        "\n",
        "train_and_eval()"
      ],
      "execution_count": 8,
      "outputs": [
        {
          "output_type": "stream",
          "text": [
            "Hyperparameters set are as follows \n",
            " SIZE: [784, 100, 100, 10] \n",
            " LEARNING_RATE: 0.01 \n",
            " EPOCHS: 45 \n",
            " MINI_BATCH_SIZE: 10 \n",
            " LMDA: 5\n",
            "Start training for epoch: 1 of 45\n",
            "Accuracy on testing data for epoch 1: 92.28\n",
            "Start training for epoch: 2 of 45\n",
            "Accuracy on testing data for epoch 2: 94.24\n",
            "Start training for epoch: 3 of 45\n",
            "Accuracy on testing data for epoch 3: 95.38\n",
            "Start training for epoch: 4 of 45\n",
            "Accuracy on testing data for epoch 4: 96.0\n",
            "Start training for epoch: 5 of 45\n",
            "Accuracy on testing data for epoch 5: 96.59\n",
            "Start training for epoch: 6 of 45\n",
            "Accuracy on testing data for epoch 6: 96.8\n",
            "Start training for epoch: 7 of 45\n",
            "Accuracy on testing data for epoch 7: 96.96\n",
            "Start training for epoch: 8 of 45\n",
            "Accuracy on testing data for epoch 8: 97.07\n",
            "Start training for epoch: 9 of 45\n",
            "Accuracy on testing data for epoch 9: 97.27\n",
            "Start training for epoch: 10 of 45\n",
            "Accuracy on testing data for epoch 10: 97.34\n",
            "Start training for epoch: 11 of 45\n",
            "Accuracy on testing data for epoch 11: 97.14\n",
            "Start training for epoch: 12 of 45\n",
            "Accuracy on testing data for epoch 12: 97.13\n",
            "Start training for epoch: 13 of 45\n",
            "Accuracy on testing data for epoch 13: 97.21\n",
            "Start training for epoch: 14 of 45\n",
            "Accuracy on testing data for epoch 14: 97.41\n",
            "Start training for epoch: 15 of 45\n",
            "Accuracy on testing data for epoch 15: 97.52\n",
            "Start training for epoch: 16 of 45\n",
            "Accuracy on testing data for epoch 16: 97.44\n",
            "Start training for epoch: 17 of 45\n",
            "Accuracy on testing data for epoch 17: 97.61\n",
            "Start training for epoch: 18 of 45\n",
            "Accuracy on testing data for epoch 18: 97.57\n",
            "Start training for epoch: 19 of 45\n",
            "Accuracy on testing data for epoch 19: 97.63\n",
            "Start training for epoch: 20 of 45\n",
            "Accuracy on testing data for epoch 20: 97.72\n",
            "Start training for epoch: 21 of 45\n",
            "Accuracy on testing data for epoch 21: 97.57\n",
            "Start training for epoch: 22 of 45\n",
            "Accuracy on testing data for epoch 22: 97.15\n",
            "Start training for epoch: 23 of 45\n",
            "Accuracy on testing data for epoch 23: 97.56\n",
            "Start training for epoch: 24 of 45\n",
            "Accuracy on testing data for epoch 24: 97.65\n",
            "Start training for epoch: 25 of 45\n",
            "Accuracy on testing data for epoch 25: 97.64\n",
            "Start training for epoch: 26 of 45\n",
            "Accuracy on testing data for epoch 26: 97.71\n",
            "Start training for epoch: 27 of 45\n",
            "Accuracy on testing data for epoch 27: 97.72\n",
            "Start training for epoch: 28 of 45\n",
            "Accuracy on testing data for epoch 28: 97.51\n",
            "Start training for epoch: 29 of 45\n",
            "Accuracy on testing data for epoch 29: 97.5\n",
            "Start training for epoch: 30 of 45\n",
            "Accuracy on testing data for epoch 30: 97.46\n",
            "Start training for epoch: 31 of 45\n",
            "Accuracy on testing data for epoch 31: 97.72\n",
            "Start training for epoch: 32 of 45\n",
            "Accuracy on testing data for epoch 32: 97.6\n",
            "Start training for epoch: 33 of 45\n",
            "Accuracy on testing data for epoch 33: 97.63\n",
            "Start training for epoch: 34 of 45\n",
            "Accuracy on testing data for epoch 34: 97.67\n",
            "Start training for epoch: 35 of 45\n",
            "Accuracy on testing data for epoch 35: 97.57\n",
            "Start training for epoch: 36 of 45\n",
            "Accuracy on testing data for epoch 36: 97.54\n",
            "Start training for epoch: 37 of 45\n",
            "Accuracy on testing data for epoch 37: 97.65\n",
            "Start training for epoch: 38 of 45\n",
            "Accuracy on testing data for epoch 38: 97.66\n",
            "Start training for epoch: 39 of 45\n",
            "Accuracy on testing data for epoch 39: 97.69\n",
            "Start training for epoch: 40 of 45\n",
            "Accuracy on testing data for epoch 40: 97.65\n",
            "Start training for epoch: 41 of 45\n",
            "Accuracy on testing data for epoch 41: 97.69\n",
            "Start training for epoch: 42 of 45\n",
            "Accuracy on testing data for epoch 42: 97.73\n",
            "Start training for epoch: 43 of 45\n",
            "Accuracy on testing data for epoch 43: 97.68\n",
            "Start training for epoch: 44 of 45\n",
            "Accuracy on testing data for epoch 44: 97.58\n",
            "Start training for epoch: 45 of 45\n",
            "Accuracy on testing data for epoch 45: 97.64\n"
          ],
          "name": "stdout"
        }
      ]
    },
    {
      "cell_type": "markdown",
      "metadata": {
        "id": "VhTsfbtu6Bln"
      },
      "source": [
        "Try an even deeper network of 5 levels(setting 3)\n",
        "\n",
        "Was able to get peak accuracy of **97.93%** on epoch 66 using this setting."
      ]
    },
    {
      "cell_type": "code",
      "metadata": {
        "colab": {
          "base_uri": "https://localhost:8080/"
        },
        "id": "z7Cl52ln5-S0",
        "outputId": "94fd017c-1f0f-40a9-a6da-d4e39b97ccf0"
      },
      "source": [
        "class Hyperparameters:\n",
        "    SIZE: List[int] = [28 * 28, 100, 100, 100, 10]\n",
        "    LEARNING_RATE: float = 0.01\n",
        "    EPOCHS: int = 70\n",
        "    MINI_BATCH_SIZE: int = 10\n",
        "    # Add lambda hyperparameter\n",
        "    LMDA: int = 5\n",
        "\n",
        "    def __str__(self) -> str:\n",
        "        str_rep = \"\"\n",
        "        str_rep += \"Hyperparameters set are as follows\"\n",
        "        for hyper_param in self.__annotations__:\n",
        "            str_rep += f' \\n {hyper_param}: {getattr(self, hyper_param)}'\n",
        "        return str_rep\n",
        "\n",
        "train_and_eval()"
      ],
      "execution_count": 10,
      "outputs": [
        {
          "output_type": "stream",
          "text": [
            "Hyperparameters set are as follows \n",
            " SIZE: [784, 100, 100, 100, 10] \n",
            " LEARNING_RATE: 0.01 \n",
            " EPOCHS: 70 \n",
            " MINI_BATCH_SIZE: 10 \n",
            " LMDA: 5\n",
            "Start training for epoch: 1 of 70\n",
            "Accuracy on testing data for epoch 1: 92.88\n",
            "Start training for epoch: 2 of 70\n",
            "Accuracy on testing data for epoch 2: 94.63\n",
            "Start training for epoch: 3 of 70\n",
            "Accuracy on testing data for epoch 3: 95.46\n",
            "Start training for epoch: 4 of 70\n",
            "Accuracy on testing data for epoch 4: 96.31\n",
            "Start training for epoch: 5 of 70\n",
            "Accuracy on testing data for epoch 5: 96.59\n",
            "Start training for epoch: 6 of 70\n",
            "Accuracy on testing data for epoch 6: 96.76\n",
            "Start training for epoch: 7 of 70\n",
            "Accuracy on testing data for epoch 7: 96.59\n",
            "Start training for epoch: 8 of 70\n",
            "Accuracy on testing data for epoch 8: 97.22\n",
            "Start training for epoch: 9 of 70\n",
            "Accuracy on testing data for epoch 9: 97.03\n",
            "Start training for epoch: 10 of 70\n",
            "Accuracy on testing data for epoch 10: 97.04\n",
            "Start training for epoch: 11 of 70\n",
            "Accuracy on testing data for epoch 11: 97.2\n",
            "Start training for epoch: 12 of 70\n",
            "Accuracy on testing data for epoch 12: 97.46\n",
            "Start training for epoch: 13 of 70\n",
            "Accuracy on testing data for epoch 13: 97.52\n",
            "Start training for epoch: 14 of 70\n",
            "Accuracy on testing data for epoch 14: 97.58\n",
            "Start training for epoch: 15 of 70\n",
            "Accuracy on testing data for epoch 15: 97.39\n",
            "Start training for epoch: 16 of 70\n",
            "Accuracy on testing data for epoch 16: 97.39\n",
            "Start training for epoch: 17 of 70\n",
            "Accuracy on testing data for epoch 17: 97.21\n",
            "Start training for epoch: 18 of 70\n",
            "Accuracy on testing data for epoch 18: 97.65\n",
            "Start training for epoch: 19 of 70\n",
            "Accuracy on testing data for epoch 19: 97.62\n",
            "Start training for epoch: 20 of 70\n",
            "Accuracy on testing data for epoch 20: 97.42\n",
            "Start training for epoch: 21 of 70\n",
            "Accuracy on testing data for epoch 21: 97.35\n",
            "Start training for epoch: 22 of 70\n",
            "Accuracy on testing data for epoch 22: 97.6\n",
            "Start training for epoch: 23 of 70\n",
            "Accuracy on testing data for epoch 23: 97.89\n",
            "Start training for epoch: 24 of 70\n",
            "Accuracy on testing data for epoch 24: 97.56\n",
            "Start training for epoch: 25 of 70\n",
            "Accuracy on testing data for epoch 25: 97.46\n",
            "Start training for epoch: 26 of 70\n",
            "Accuracy on testing data for epoch 26: 97.66\n",
            "Start training for epoch: 27 of 70\n",
            "Accuracy on testing data for epoch 27: 97.62\n",
            "Start training for epoch: 28 of 70\n",
            "Accuracy on testing data for epoch 28: 97.61\n",
            "Start training for epoch: 29 of 70\n",
            "Accuracy on testing data for epoch 29: 97.69\n",
            "Start training for epoch: 30 of 70\n",
            "Accuracy on testing data for epoch 30: 97.75\n",
            "Start training for epoch: 31 of 70\n",
            "Accuracy on testing data for epoch 31: 97.67\n",
            "Start training for epoch: 32 of 70\n",
            "Accuracy on testing data for epoch 32: 97.71\n",
            "Start training for epoch: 33 of 70\n",
            "Accuracy on testing data for epoch 33: 97.77\n",
            "Start training for epoch: 34 of 70\n",
            "Accuracy on testing data for epoch 34: 97.83\n",
            "Start training for epoch: 35 of 70\n",
            "Accuracy on testing data for epoch 35: 97.81\n",
            "Start training for epoch: 36 of 70\n",
            "Accuracy on testing data for epoch 36: 97.78\n",
            "Start training for epoch: 37 of 70\n",
            "Accuracy on testing data for epoch 37: 97.85\n",
            "Start training for epoch: 38 of 70\n",
            "Accuracy on testing data for epoch 38: 97.79\n",
            "Start training for epoch: 39 of 70\n",
            "Accuracy on testing data for epoch 39: 97.85\n",
            "Start training for epoch: 40 of 70\n",
            "Accuracy on testing data for epoch 40: 97.72\n",
            "Start training for epoch: 41 of 70\n",
            "Accuracy on testing data for epoch 41: 97.79\n",
            "Start training for epoch: 42 of 70\n",
            "Accuracy on testing data for epoch 42: 97.86\n",
            "Start training for epoch: 43 of 70\n",
            "Accuracy on testing data for epoch 43: 97.82\n",
            "Start training for epoch: 44 of 70\n",
            "Accuracy on testing data for epoch 44: 97.8\n",
            "Start training for epoch: 45 of 70\n",
            "Accuracy on testing data for epoch 45: 97.81\n",
            "Start training for epoch: 46 of 70\n",
            "Accuracy on testing data for epoch 46: 97.85\n",
            "Start training for epoch: 47 of 70\n",
            "Accuracy on testing data for epoch 47: 97.81\n",
            "Start training for epoch: 48 of 70\n",
            "Accuracy on testing data for epoch 48: 97.76\n",
            "Start training for epoch: 49 of 70\n",
            "Accuracy on testing data for epoch 49: 97.86\n",
            "Start training for epoch: 50 of 70\n",
            "Accuracy on testing data for epoch 50: 97.89\n",
            "Start training for epoch: 51 of 70\n",
            "Accuracy on testing data for epoch 51: 97.88\n",
            "Start training for epoch: 52 of 70\n",
            "Accuracy on testing data for epoch 52: 97.88\n",
            "Start training for epoch: 53 of 70\n",
            "Accuracy on testing data for epoch 53: 97.87\n",
            "Start training for epoch: 54 of 70\n",
            "Accuracy on testing data for epoch 54: 97.78\n",
            "Start training for epoch: 55 of 70\n",
            "Accuracy on testing data for epoch 55: 97.86\n",
            "Start training for epoch: 56 of 70\n",
            "Accuracy on testing data for epoch 56: 97.85\n",
            "Start training for epoch: 57 of 70\n",
            "Accuracy on testing data for epoch 57: 97.84\n",
            "Start training for epoch: 58 of 70\n",
            "Accuracy on testing data for epoch 58: 97.88\n",
            "Start training for epoch: 59 of 70\n",
            "Accuracy on testing data for epoch 59: 97.8\n",
            "Start training for epoch: 60 of 70\n",
            "Accuracy on testing data for epoch 60: 97.77\n",
            "Start training for epoch: 61 of 70\n",
            "Accuracy on testing data for epoch 61: 97.82\n",
            "Start training for epoch: 62 of 70\n",
            "Accuracy on testing data for epoch 62: 97.87\n",
            "Start training for epoch: 63 of 70\n",
            "Accuracy on testing data for epoch 63: 97.82\n",
            "Start training for epoch: 64 of 70\n",
            "Accuracy on testing data for epoch 64: 97.87\n",
            "Start training for epoch: 65 of 70\n",
            "Accuracy on testing data for epoch 65: 97.9\n",
            "Start training for epoch: 66 of 70\n",
            "Accuracy on testing data for epoch 66: 97.93\n",
            "Start training for epoch: 67 of 70\n",
            "Accuracy on testing data for epoch 67: 97.87\n",
            "Start training for epoch: 68 of 70\n",
            "Accuracy on testing data for epoch 68: 97.85\n",
            "Start training for epoch: 69 of 70\n",
            "Accuracy on testing data for epoch 69: 97.85\n",
            "Start training for epoch: 70 of 70\n",
            "Accuracy on testing data for epoch 70: 97.84\n"
          ],
          "name": "stdout"
        }
      ]
    }
  ]
}